# Plotting
plt.figure(figsize=(15, 5))

plt.subplot(131)
plt.plot(model_data["Average Property Value"])
plt.title("Average Property Value Over Time")
plt.xlabel("Step")
plt.ylabel("Average Property Value ($)")

plt.subplot(132)
plt.plot(model_data["Gini Coefficient"])
plt.title("Income Inequality (Gini Coefficient) Over Time")
plt.xlabel("Step")
plt.ylabel("Gini Coefficient")

plt.subplot(133)
plt.plot(model_data["Neighborhood Diversity"])
plt.title("Neighborhood Diversity Over Time")
plt.xlabel("Step")
plt.ylabel("Diversity Index")

plt.tight_layout()
plt.show()